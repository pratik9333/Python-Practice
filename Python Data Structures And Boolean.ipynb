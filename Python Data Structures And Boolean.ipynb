{
 "cells": [
  {
   "cell_type": "markdown",
   "id": "5c08ae85",
   "metadata": {},
   "source": [
    "\n",
    "# Python Data Structures And Boolean\n",
    "\n",
    "- Boolean\n",
    "- Boolean and Logical Operators\n",
    "- Lists\n",
    "- Comparison operators\n",
    "- Dictionaries\n",
    "- Tuples\n",
    "- Sets"
   ]
  },
  {
   "cell_type": "markdown",
   "id": "e034057a",
   "metadata": {},
   "source": [
    "### Boolean variables\n",
    "\n",
    "- Boolean values are the two constant objects False and True.\n",
    "- They are used to represent truth values (other values can also be considered false or true).\n",
    "- The built-in function bool() can be used to cast any value to a Boolean, if the value can be interpreted as a truth value\n",
    "- They are written as False and True, respectively.\n",
    "\n",
    "\n"
   ]
  },
  {
   "cell_type": "code",
   "execution_count": 6,
   "id": "4c7ff31a",
   "metadata": {},
   "outputs": [
    {
     "data": {
      "text/plain": [
       "False"
      ]
     },
     "execution_count": 6,
     "metadata": {},
     "output_type": "execute_result"
    }
   ],
   "source": [
    "False"
   ]
  },
  {
   "cell_type": "code",
   "execution_count": 7,
   "id": "df192215",
   "metadata": {},
   "outputs": [
    {
     "name": "stdout",
     "output_type": "stream",
     "text": [
      "True False\n"
     ]
    }
   ],
   "source": [
    "print(True, False)"
   ]
  },
  {
   "cell_type": "code",
   "execution_count": 8,
   "id": "df7fa1e2",
   "metadata": {},
   "outputs": [
    {
     "data": {
      "text/plain": [
       "bool"
      ]
     },
     "execution_count": 8,
     "metadata": {},
     "output_type": "execute_result"
    }
   ],
   "source": [
    "type(True)"
   ]
  },
  {
   "cell_type": "code",
   "execution_count": 9,
   "id": "f3f8d3f3",
   "metadata": {},
   "outputs": [
    {
     "data": {
      "text/plain": [
       "bool"
      ]
     },
     "execution_count": 9,
     "metadata": {},
     "output_type": "execute_result"
    }
   ],
   "source": [
    "type(False)"
   ]
  },
  {
   "cell_type": "code",
   "execution_count": 42,
   "id": "90f0709d",
   "metadata": {},
   "outputs": [
    {
     "name": "stdout",
     "output_type": "stream",
     "text": [
      "True\n",
      "True\n",
      "False\n",
      "False\n",
      "False\n",
      "False\n",
      "False\n",
      "True\n",
      "True\n"
     ]
    }
   ],
   "source": [
    "my_str = \"Pratik1\"\n",
    "print(my_str.istitle())\n",
    "print(my_str.isalnum()) ## The isalnum() method returns True if all the characters are alphanumeric, \n",
    "## meaning alphabet letter (a-z) and numbers (0-9).\n",
    "\n",
    "print(my_str.isalpha()) #check if all char in the string are alphabetic\n",
    "print(my_str.isdigit()) #check if all char in the string are digit\n",
    "print(my_str.isupper()) #test if string contains upper case\n",
    "print(my_str.islower()) #test if string contains lower case\n",
    "print(my_str.isspace()) #test if all characters are whitespaces\n",
    "print(my_str.endswith('1')) #test if string endswith a 1\n",
    "print(my_str.startswith('P')) #test if string startswith P"
   ]
  },
  {
   "cell_type": "markdown",
   "id": "1cb711e8",
   "metadata": {},
   "source": [
    "### List\n",
    "\n",
    "- A list is a data structure in Python that is a mutable, or changeable, ordered sequence of elements. Each element or value that is inside of a list is called an item. Just as strings are defined as characters between quotes, lists are defined by having values between square brackets [ ]\n"
   ]
  },
  {
   "cell_type": "code",
   "execution_count": 58,
   "id": "08d44b32",
   "metadata": {},
   "outputs": [],
   "source": [
    "## declaring list\n",
    "lst = list\n",
    "\n",
    "another_list = []"
   ]
  },
  {
   "cell_type": "code",
   "execution_count": 63,
   "id": "62edccef",
   "metadata": {},
   "outputs": [
    {
     "name": "stdout",
     "output_type": "stream",
     "text": [
      "<class 'list'>\n",
      "<class 'list'>\n"
     ]
    }
   ],
   "source": [
    "print(type(lst))\n",
    "print(type(another_list))"
   ]
  },
  {
   "cell_type": "code",
   "execution_count": 72,
   "id": "3b3b2fc3",
   "metadata": {},
   "outputs": [],
   "source": [
    "lst = [\"Python\", \"Java\", \"C++\", 100, 200, 300]"
   ]
  },
  {
   "cell_type": "code",
   "execution_count": 73,
   "id": "7efc9c8a",
   "metadata": {},
   "outputs": [
    {
     "data": {
      "text/plain": [
       "6"
      ]
     },
     "execution_count": 73,
     "metadata": {},
     "output_type": "execute_result"
    }
   ],
   "source": [
    "len(lst)"
   ]
  },
  {
   "cell_type": "markdown",
   "id": "4570e605",
   "metadata": {},
   "source": [
    "### Append"
   ]
  },
  {
   "cell_type": "code",
   "execution_count": 74,
   "id": "b678154a",
   "metadata": {},
   "outputs": [],
   "source": [
    "lst.append(\"ABCD\")"
   ]
  },
  {
   "cell_type": "code",
   "execution_count": 75,
   "id": "66f2044f",
   "metadata": {},
   "outputs": [
    {
     "data": {
      "text/plain": [
       "['Python', 'Java', 'C++', 100, 200, 300, 'ABCD']"
      ]
     },
     "execution_count": 75,
     "metadata": {},
     "output_type": "execute_result"
    }
   ],
   "source": [
    "lst"
   ]
  },
  {
   "cell_type": "code",
   "execution_count": 76,
   "id": "66a0fd39",
   "metadata": {},
   "outputs": [],
   "source": [
    "lst.append([\"ABCD\", \"XYZW\"])"
   ]
  },
  {
   "cell_type": "code",
   "execution_count": 77,
   "id": "4c327496",
   "metadata": {},
   "outputs": [
    {
     "data": {
      "text/plain": [
       "['Python', 'Java', 'C++', 100, 200, 300, 'ABCD', ['ABCD', 'XYZW']]"
      ]
     },
     "execution_count": 77,
     "metadata": {},
     "output_type": "execute_result"
    }
   ],
   "source": [
    "lst"
   ]
  },
  {
   "cell_type": "code",
   "execution_count": 79,
   "id": "95ee5c07",
   "metadata": {},
   "outputs": [
    {
     "data": {
      "text/plain": [
       "['ABCD', 'XYZW']"
      ]
     },
     "execution_count": 79,
     "metadata": {},
     "output_type": "execute_result"
    }
   ],
   "source": [
    "## Indexing in list\n",
    "\n",
    "lst[7]"
   ]
  },
  {
   "cell_type": "code",
   "execution_count": 82,
   "id": "d7b0e512",
   "metadata": {},
   "outputs": [
    {
     "data": {
      "text/plain": [
       "['Java', 'C++', 100, 200, 300, 'ABCD']"
      ]
     },
     "execution_count": 82,
     "metadata": {},
     "output_type": "execute_result"
    }
   ],
   "source": [
    "lst[1:7]"
   ]
  },
  {
   "cell_type": "code",
   "execution_count": 102,
   "id": "d3da752a",
   "metadata": {},
   "outputs": [],
   "source": [
    "## Insert in specific order\n",
    "\n",
    "lst.insert(1,\"Pratik\")"
   ]
  },
  {
   "cell_type": "code",
   "execution_count": 103,
   "id": "a487aa8a",
   "metadata": {},
   "outputs": [],
   "source": [
    "# Removes first occurence of given element from list\n",
    "\n",
    "lst.remove(\"Pratik\")"
   ]
  },
  {
   "cell_type": "code",
   "execution_count": 131,
   "id": "e41edcfc",
   "metadata": {},
   "outputs": [
    {
     "data": {
      "text/plain": [
       "[1, 2, 3, 4, 5]"
      ]
     },
     "execution_count": 131,
     "metadata": {},
     "output_type": "execute_result"
    }
   ],
   "source": [
    "lst"
   ]
  },
  {
   "cell_type": "code",
   "execution_count": 115,
   "id": "58f20f5f",
   "metadata": {},
   "outputs": [],
   "source": [
    "# delete specific element from list\n",
    "## del lst[0]\n",
    "del lst[3]"
   ]
  },
  {
   "cell_type": "markdown",
   "id": "d804b708",
   "metadata": {},
   "source": [
    "### Extend Method"
   ]
  },
  {
   "cell_type": "code",
   "execution_count": 119,
   "id": "5a628024",
   "metadata": {},
   "outputs": [],
   "source": [
    "lst.extend([\"YYYY\", \"ZZZZ\"])"
   ]
  },
  {
   "cell_type": "code",
   "execution_count": 120,
   "id": "f0046037",
   "metadata": {},
   "outputs": [
    {
     "data": {
      "text/plain": [
       "[200, 300, 'ABCD', 'ABCD', 'XYZW', 'YYYY', 'ZZZZ']"
      ]
     },
     "execution_count": 120,
     "metadata": {},
     "output_type": "execute_result"
    }
   ],
   "source": [
    "lst"
   ]
  },
  {
   "cell_type": "markdown",
   "id": "fce1f0f2",
   "metadata": {},
   "source": [
    "### Various operarions we can perform on list"
   ]
  },
  {
   "cell_type": "code",
   "execution_count": 121,
   "id": "aa933d38",
   "metadata": {},
   "outputs": [],
   "source": [
    "lists = [1,2,3,4,5]"
   ]
  },
  {
   "cell_type": "code",
   "execution_count": 122,
   "id": "692010f1",
   "metadata": {},
   "outputs": [
    {
     "data": {
      "text/plain": [
       "15"
      ]
     },
     "execution_count": 122,
     "metadata": {},
     "output_type": "execute_result"
    }
   ],
   "source": [
    "sum(lists)"
   ]
  },
  {
   "cell_type": "code",
   "execution_count": 123,
   "id": "ebd3716f",
   "metadata": {},
   "outputs": [
    {
     "data": {
      "text/plain": [
       "[1, 2, 3, 4, 5, 1, 2, 3, 4, 5, 1, 2, 3, 4, 5, 1, 2, 3, 4, 5, 1, 2, 3, 4, 5]"
      ]
     },
     "execution_count": 123,
     "metadata": {},
     "output_type": "execute_result"
    }
   ],
   "source": [
    "lists*5"
   ]
  },
  {
   "cell_type": "code",
   "execution_count": 125,
   "id": "fb0a5cd0",
   "metadata": {},
   "outputs": [
    {
     "data": {
      "text/plain": [
       "5"
      ]
     },
     "execution_count": 125,
     "metadata": {},
     "output_type": "execute_result"
    }
   ],
   "source": [
    "lists.pop()"
   ]
  },
  {
   "cell_type": "code",
   "execution_count": 128,
   "id": "6c6a16d7",
   "metadata": {},
   "outputs": [
    {
     "data": {
      "text/plain": [
       "[1, 3, 4]"
      ]
     },
     "execution_count": 128,
     "metadata": {},
     "output_type": "execute_result"
    }
   ],
   "source": [
    "lists"
   ]
  },
  {
   "cell_type": "code",
   "execution_count": 127,
   "id": "0c40ec75",
   "metadata": {},
   "outputs": [
    {
     "data": {
      "text/plain": [
       "2"
      ]
     },
     "execution_count": 127,
     "metadata": {},
     "output_type": "execute_result"
    }
   ],
   "source": [
    "lists.pop(1)"
   ]
  },
  {
   "cell_type": "markdown",
   "id": "3b521bd2",
   "metadata": {},
   "source": [
    "### count():Calculates total occurrence of given element of List\n"
   ]
  },
  {
   "cell_type": "code",
   "execution_count": 135,
   "id": "3b62dfe3",
   "metadata": {},
   "outputs": [],
   "source": [
    "abcd = [1,1,2,3,4,5]"
   ]
  },
  {
   "cell_type": "code",
   "execution_count": 136,
   "id": "7605397e",
   "metadata": {},
   "outputs": [
    {
     "data": {
      "text/plain": [
       "2"
      ]
     },
     "execution_count": 136,
     "metadata": {},
     "output_type": "execute_result"
    }
   ],
   "source": [
    "abcd.count(1)"
   ]
  },
  {
   "cell_type": "code",
   "execution_count": 139,
   "id": "c7939173",
   "metadata": {},
   "outputs": [
    {
     "data": {
      "text/plain": [
       "1"
      ]
     },
     "execution_count": 139,
     "metadata": {},
     "output_type": "execute_result"
    }
   ],
   "source": [
    "# index(): Returns the index of first occurrence. Start and End index are not necessary parameters\n",
    "abcd.index(1,1,4)"
   ]
  },
  {
   "cell_type": "code",
   "execution_count": 143,
   "id": "2c12d159",
   "metadata": {},
   "outputs": [
    {
     "data": {
      "text/plain": [
       "5"
      ]
     },
     "execution_count": 143,
     "metadata": {},
     "output_type": "execute_result"
    }
   ],
   "source": [
    "# Min and Max\n",
    "min(abcd)\n",
    "max(abcd)"
   ]
  },
  {
   "cell_type": "markdown",
   "id": "88138380",
   "metadata": {},
   "source": [
    "## Sets\n",
    "\n",
    "- A Set is an unordered collection data type that is iterable, mutable, and has no duplicate elements. Python's set class represents the mathematical notion of a set.This is based on a data structure known as a hash table"
   ]
  },
  {
   "cell_type": "code",
   "execution_count": 146,
   "id": "dc779188",
   "metadata": {},
   "outputs": [
    {
     "name": "stdout",
     "output_type": "stream",
     "text": [
      "set()\n",
      "<class 'set'>\n"
     ]
    }
   ],
   "source": [
    "## defining the empty set\n",
    "set_var = set()\n",
    "print(set_var)\n",
    "print(type(set_var))"
   ]
  },
  {
   "cell_type": "code",
   "execution_count": 147,
   "id": "b8ae9e1d",
   "metadata": {},
   "outputs": [],
   "source": [
    "set_var_1 = {1,2,3,4}"
   ]
  },
  {
   "cell_type": "code",
   "execution_count": 152,
   "id": "c67b7680",
   "metadata": {},
   "outputs": [
    {
     "data": {
      "text/plain": [
       "{1, 2, 3, 4, 'Hulk'}"
      ]
     },
     "execution_count": 152,
     "metadata": {},
     "output_type": "execute_result"
    }
   ],
   "source": [
    "set_var_1"
   ]
  },
  {
   "cell_type": "code",
   "execution_count": 151,
   "id": "68c13c8e",
   "metadata": {},
   "outputs": [],
   "source": [
    "## Inbuilt functions in set\n",
    "\n",
    "set_var_1.add(\"Hulk\")"
   ]
  },
  {
   "cell_type": "code",
   "execution_count": 175,
   "id": "67ad396a",
   "metadata": {},
   "outputs": [],
   "source": [
    "set1={\"Avengers\",\"IronMan\",'Hitman'}\n",
    "set2={\"Avengers\",\"IronMan\",'Hitman','Hulk2'}"
   ]
  },
  {
   "cell_type": "code",
   "execution_count": 184,
   "id": "6c3c2d74",
   "metadata": {},
   "outputs": [
    {
     "data": {
      "text/plain": [
       "{'Avengers', 'Hitman', 'IronMan'}"
      ]
     },
     "execution_count": 184,
     "metadata": {},
     "output_type": "execute_result"
    }
   ],
   "source": [
    "set1"
   ]
  },
  {
   "cell_type": "code",
   "execution_count": 169,
   "id": "18a30407",
   "metadata": {},
   "outputs": [],
   "source": [
    "## Return the intersection of two sets as a new set. (i.e. all elements that are in both sets.)\n",
    "set2.intersection_update(set1)"
   ]
  },
  {
   "cell_type": "code",
   "execution_count": 183,
   "id": "96110130",
   "metadata": {},
   "outputs": [
    {
     "data": {
      "text/plain": [
       "{'Hulk2'}"
      ]
     },
     "execution_count": 183,
     "metadata": {},
     "output_type": "execute_result"
    }
   ],
   "source": [
    "set2"
   ]
  },
  {
   "cell_type": "code",
   "execution_count": 181,
   "id": "20529ef6",
   "metadata": {},
   "outputs": [
    {
     "data": {
      "text/plain": [
       "{'Hulk2'}"
      ]
     },
     "execution_count": 181,
     "metadata": {},
     "output_type": "execute_result"
    }
   ],
   "source": [
    "##Difference \n",
    "set2.difference(set1)"
   ]
  },
  {
   "cell_type": "code",
   "execution_count": 182,
   "id": "feaf060e",
   "metadata": {},
   "outputs": [],
   "source": [
    "## Difference update\n",
    "\n",
    "set2.difference_update(set1)"
   ]
  },
  {
   "cell_type": "markdown",
   "id": "5d36adbf",
   "metadata": {},
   "source": [
    "### Dictionaries\n",
    "\n",
    "- A dictionary is a collection which is unordered, changeable and indexed. In Python dictionaries are written with curly brackets, and they have keys and values."
   ]
  },
  {
   "cell_type": "code",
   "execution_count": 185,
   "id": "64092348",
   "metadata": {},
   "outputs": [],
   "source": [
    "dic = dict()"
   ]
  },
  {
   "cell_type": "code",
   "execution_count": 187,
   "id": "5697dd69",
   "metadata": {},
   "outputs": [
    {
     "data": {
      "text/plain": [
       "dict"
      ]
     },
     "execution_count": 187,
     "metadata": {},
     "output_type": "execute_result"
    }
   ],
   "source": [
    "type(dic)"
   ]
  },
  {
   "cell_type": "code",
   "execution_count": 188,
   "id": "f6b9fd93",
   "metadata": {},
   "outputs": [],
   "source": [
    "dic = {}"
   ]
  },
  {
   "cell_type": "code",
   "execution_count": 189,
   "id": "67500b26",
   "metadata": {},
   "outputs": [
    {
     "data": {
      "text/plain": [
       "dict"
      ]
     },
     "execution_count": 189,
     "metadata": {},
     "output_type": "execute_result"
    }
   ],
   "source": [
    "type(dic)"
   ]
  },
  {
   "cell_type": "code",
   "execution_count": 193,
   "id": "a05640d9",
   "metadata": {},
   "outputs": [],
   "source": [
    "dic = {1 : \"ABC\", 2: \"CDE\", 3 : \"EFG\"}"
   ]
  },
  {
   "cell_type": "code",
   "execution_count": 194,
   "id": "5902eef9",
   "metadata": {},
   "outputs": [
    {
     "data": {
      "text/plain": [
       "{1: 'ABC', 2: 'CDE', 3: 'EFG'}"
      ]
     },
     "execution_count": 194,
     "metadata": {},
     "output_type": "execute_result"
    }
   ],
   "source": [
    "dic"
   ]
  },
  {
   "cell_type": "code",
   "execution_count": 195,
   "id": "67661fec",
   "metadata": {},
   "outputs": [],
   "source": [
    "## Let create a dictionary\n",
    "\n",
    "my_dict={\"Car1\": \"Audi\", \"Car2\":\"BMW\",\"Car3\":\"Mercidies Benz\"}"
   ]
  },
  {
   "cell_type": "code",
   "execution_count": 196,
   "id": "b1832404",
   "metadata": {},
   "outputs": [
    {
     "data": {
      "text/plain": [
       "'Audi'"
      ]
     },
     "execution_count": 196,
     "metadata": {},
     "output_type": "execute_result"
    }
   ],
   "source": [
    "##Access the item values based on keys\n",
    "\n",
    "my_dict[\"Car1\"]"
   ]
  },
  {
   "cell_type": "code",
   "execution_count": 197,
   "id": "b3e0ac4a",
   "metadata": {},
   "outputs": [
    {
     "name": "stdout",
     "output_type": "stream",
     "text": [
      "Car1\n",
      "Car2\n",
      "Car3\n"
     ]
    }
   ],
   "source": [
    "# We can even loop throught the dictionaries keys\n",
    "\n",
    "for key in my_dict:\n",
    "    print(key)"
   ]
  },
  {
   "cell_type": "code",
   "execution_count": 198,
   "id": "4e5ac735",
   "metadata": {},
   "outputs": [
    {
     "name": "stdout",
     "output_type": "stream",
     "text": [
      "Audi\n",
      "BMW\n",
      "Mercidies Benz\n"
     ]
    }
   ],
   "source": [
    "# We can even loop throught the dictionaries values\n",
    "\n",
    "for value in my_dict.values():\n",
    "    print(value)"
   ]
  },
  {
   "cell_type": "code",
   "execution_count": 209,
   "id": "2f4dbf5a",
   "metadata": {},
   "outputs": [
    {
     "name": "stdout",
     "output_type": "stream",
     "text": [
      "('Car1', 'Audi')\n",
      "('Car2', 'BMW')\n",
      "('Car3', 'Suzuki')\n",
      "('Car4', 'Racers')\n"
     ]
    }
   ],
   "source": [
    "# We can also check both keys and values\n",
    "\n",
    "for item in my_dict.items():\n",
    "    print(item)"
   ]
  },
  {
   "cell_type": "code",
   "execution_count": 208,
   "id": "9aa1d49a",
   "metadata": {},
   "outputs": [],
   "source": [
    "## Adding items in Dictionaries\n",
    "\n",
    "my_dict[\"Car4\"] = \"Racers\""
   ]
  },
  {
   "cell_type": "markdown",
   "id": "0be6d871",
   "metadata": {},
   "source": [
    "### Nested Dictionaries"
   ]
  },
  {
   "cell_type": "code",
   "execution_count": 210,
   "id": "a2928fdb",
   "metadata": {},
   "outputs": [],
   "source": [
    "car1_model={'Mercedes':1960}\n",
    "car2_model={'Audi':1970}\n",
    "car3_model={'Ambassador':1980}\n",
    "\n",
    "car_type={'car1':car1_model,'car2':car2_model,'car3':car3_model}"
   ]
  },
  {
   "cell_type": "code",
   "execution_count": 211,
   "id": "ba362b00",
   "metadata": {},
   "outputs": [
    {
     "name": "stdout",
     "output_type": "stream",
     "text": [
      "{'car1': {'Mercedes': 1960}, 'car2': {'Audi': 1970}, 'car3': {'Ambassador': 1980}}\n"
     ]
    }
   ],
   "source": [
    "print(car_type)"
   ]
  },
  {
   "cell_type": "code",
   "execution_count": 212,
   "id": "f138a0e8",
   "metadata": {},
   "outputs": [
    {
     "data": {
      "text/plain": [
       "1960"
      ]
     },
     "execution_count": 212,
     "metadata": {},
     "output_type": "execute_result"
    }
   ],
   "source": [
    "## Accessing the items in the dictionary\n",
    "\n",
    "car_type[\"car1\"][\"Mercedes\"]"
   ]
  },
  {
   "cell_type": "code",
   "execution_count": 213,
   "id": "864c9d9e",
   "metadata": {},
   "outputs": [
    {
     "data": {
      "text/plain": [
       "{'Mercedes': 1960}"
      ]
     },
     "execution_count": 213,
     "metadata": {},
     "output_type": "execute_result"
    }
   ],
   "source": [
    "car_type[\"car1\"]"
   ]
  },
  {
   "cell_type": "markdown",
   "id": "526a1d9b",
   "metadata": {},
   "source": [
    "### Tuples"
   ]
  },
  {
   "cell_type": "code",
   "execution_count": 214,
   "id": "5f6f32e4",
   "metadata": {},
   "outputs": [],
   "source": [
    "## create an empty Tuples\n",
    "\n",
    "tple = tuple()"
   ]
  },
  {
   "cell_type": "code",
   "execution_count": 215,
   "id": "b40ade65",
   "metadata": {},
   "outputs": [
    {
     "data": {
      "text/plain": [
       "tuple"
      ]
     },
     "execution_count": 215,
     "metadata": {},
     "output_type": "execute_result"
    }
   ],
   "source": [
    "type(tple)"
   ]
  },
  {
   "cell_type": "code",
   "execution_count": null,
   "id": "e7c24ac4",
   "metadata": {},
   "outputs": [],
   "source": []
  }
 ],
 "metadata": {
  "kernelspec": {
   "display_name": "Python 3 (ipykernel)",
   "language": "python",
   "name": "python3"
  },
  "language_info": {
   "codemirror_mode": {
    "name": "ipython",
    "version": 3
   },
   "file_extension": ".py",
   "mimetype": "text/x-python",
   "name": "python",
   "nbconvert_exporter": "python",
   "pygments_lexer": "ipython3",
   "version": "3.9.13"
  }
 },
 "nbformat": 4,
 "nbformat_minor": 5
}
