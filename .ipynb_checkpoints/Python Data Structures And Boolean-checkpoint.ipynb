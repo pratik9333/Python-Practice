{
 "cells": [
  {
   "cell_type": "markdown",
   "id": "5c08ae85",
   "metadata": {},
   "source": [
    "D+D = delete cell\n",
    "Shift + Enter = run cell\n",
    "Insert Cell Above = A\n",
    "Insert Cell Below = B\n",
    "Shift + tab = get details of function\n",
    "\n",
    "# Basics of python\n",
    "\n",
    "1. Data types of python\n",
    "2. Variable \n",
    "3. Variable Assignment\n",
    "4. Print formatting"
   ]
  },
  {
   "cell_type": "code",
   "execution_count": 3,
   "id": "7fb98895",
   "metadata": {},
   "outputs": [
    {
     "name": "stdout",
     "output_type": "stream",
     "text": [
      "Hello\n"
     ]
    }
   ],
   "source": [
    "print(\"Hello\")"
   ]
  },
  {
   "cell_type": "code",
   "execution_count": 2,
   "id": "b6d6b46d",
   "metadata": {},
   "outputs": [
    {
     "data": {
      "text/plain": [
       "bool"
      ]
     },
     "execution_count": 2,
     "metadata": {},
     "output_type": "execute_result"
    }
   ],
   "source": [
    "##Check the Data types\n",
    "\n",
    "type(True)"
   ]
  },
  {
   "cell_type": "code",
   "execution_count": 7,
   "id": "2d212c26",
   "metadata": {},
   "outputs": [],
   "source": [
    "##Strings\n",
    "\n",
    "\"Hello\"\n",
    "a = \"Pratik Aswani\""
   ]
  },
  {
   "cell_type": "code",
   "execution_count": 8,
   "id": "be3e0133",
   "metadata": {},
   "outputs": [
    {
     "data": {
      "text/plain": [
       "str"
      ]
     },
     "execution_count": 8,
     "metadata": {},
     "output_type": "execute_result"
    }
   ],
   "source": [
    "type(a)"
   ]
  },
  {
   "cell_type": "code",
   "execution_count": 9,
   "id": "b040bfae",
   "metadata": {},
   "outputs": [],
   "source": [
    "##Variable assignment\n",
    "x = 10"
   ]
  },
  {
   "cell_type": "code",
   "execution_count": 10,
   "id": "82618842",
   "metadata": {},
   "outputs": [
    {
     "data": {
      "text/plain": [
       "int"
      ]
     },
     "execution_count": 10,
     "metadata": {},
     "output_type": "execute_result"
    }
   ],
   "source": [
    "type(x)"
   ]
  },
  {
   "cell_type": "code",
   "execution_count": 11,
   "id": "ec3dbfb5",
   "metadata": {},
   "outputs": [],
   "source": [
    "x = \"Pratik Aswani\""
   ]
  },
  {
   "cell_type": "code",
   "execution_count": 12,
   "id": "5efc9b90",
   "metadata": {},
   "outputs": [
    {
     "data": {
      "text/plain": [
       "str"
      ]
     },
     "execution_count": 12,
     "metadata": {},
     "output_type": "execute_result"
    }
   ],
   "source": [
    "type(x)"
   ]
  },
  {
   "cell_type": "code",
   "execution_count": 13,
   "id": "cb3703a9",
   "metadata": {},
   "outputs": [
    {
     "name": "stdout",
     "output_type": "stream",
     "text": [
      "Hello Pratik\n"
     ]
    }
   ],
   "source": [
    "##Various ways of printing\n",
    "print(\"Hello Pratik\")"
   ]
  },
  {
   "cell_type": "code",
   "execution_count": 14,
   "id": "adfb1f25",
   "metadata": {},
   "outputs": [],
   "source": [
    "first_name = \"Pratik\"\n",
    "last_name = \"Aswani\""
   ]
  },
  {
   "cell_type": "code",
   "execution_count": 17,
   "id": "e8e3a4f1",
   "metadata": {},
   "outputs": [
    {
     "name": "stdout",
     "output_type": "stream",
     "text": [
      "My firstname is Pratik and lastname is Aswani\n"
     ]
    }
   ],
   "source": [
    "print(\"My firstname is {} and lastname is {}\".format(first_name, last_name))"
   ]
  },
  {
   "cell_type": "code",
   "execution_count": 18,
   "id": "80c7501d",
   "metadata": {},
   "outputs": [
    {
     "name": "stdout",
     "output_type": "stream",
     "text": [
      "My firstname is Pratik and lastname is Aswani\n"
     ]
    }
   ],
   "source": [
    "print(\"My firstname is {first} and lastname is {last}\".format(first=first_name, last=last_name))"
   ]
  },
  {
   "cell_type": "code",
   "execution_count": 20,
   "id": "be29fffa",
   "metadata": {},
   "outputs": [
    {
     "data": {
      "text/plain": [
       "6"
      ]
     },
     "execution_count": 20,
     "metadata": {},
     "output_type": "execute_result"
    }
   ],
   "source": [
    "len(first_name)"
   ]
  },
  {
   "cell_type": "code",
   "execution_count": 21,
   "id": "e75cc3d6",
   "metadata": {},
   "outputs": [
    {
     "data": {
      "text/plain": [
       "list"
      ]
     },
     "execution_count": 21,
     "metadata": {},
     "output_type": "execute_result"
    }
   ],
   "source": [
    "type(['1', 2 , 3, 4])"
   ]
  },
  {
   "cell_type": "code",
   "execution_count": 5,
   "id": "f93ad781",
   "metadata": {},
   "outputs": [
    {
     "data": {
      "text/plain": [
       "'Hello'"
      ]
     },
     "execution_count": 5,
     "metadata": {},
     "output_type": "execute_result"
    }
   ],
   "source": [
    "\"Hello\""
   ]
  },
  {
   "cell_type": "code",
   "execution_count": 6,
   "id": "3ebf3b5e",
   "metadata": {},
   "outputs": [
    {
     "name": "stdout",
     "output_type": "stream",
     "text": [
      "Collecting package metadata (current_repodata.json): done\n",
      "Solving environment: done\n",
      "\n",
      "# All requested packages already installed.\n",
      "\n",
      "Retrieving notices: ...working... done\n",
      "\n",
      "Note: you may need to restart the kernel to use updated packages.\n"
     ]
    }
   ],
   "source": [
    "conda install numpy "
   ]
  },
  {
   "cell_type": "code",
   "execution_count": 7,
   "id": "9263003f",
   "metadata": {},
   "outputs": [],
   "source": [
    "import numpy as np"
   ]
  },
  {
   "cell_type": "code",
   "execution_count": 10,
   "id": "6912684b",
   "metadata": {},
   "outputs": [
    {
     "name": "stdout",
     "output_type": "stream",
     "text": [
      "<class 'numpy.ndarray'>\n",
      "[1 2 3 4 5]\n"
     ]
    }
   ],
   "source": [
    "my_list = [1,2,3,4,5]\n",
    "\n",
    "arr = np.array(my_list)\n",
    "\n",
    "print(type(arr))\n",
    "print(arr)"
   ]
  },
  {
   "cell_type": "code",
   "execution_count": 11,
   "id": "982230db",
   "metadata": {},
   "outputs": [
    {
     "data": {
      "text/plain": [
       "array([1, 2, 3, 4, 5])"
      ]
     },
     "execution_count": 11,
     "metadata": {},
     "output_type": "execute_result"
    }
   ],
   "source": [
    "arr"
   ]
  },
  {
   "cell_type": "code",
   "execution_count": 13,
   "id": "c5dbe609",
   "metadata": {},
   "outputs": [
    {
     "data": {
      "text/plain": [
       "(5,)"
      ]
     },
     "execution_count": 13,
     "metadata": {},
     "output_type": "execute_result"
    }
   ],
   "source": [
    "arr.shape"
   ]
  },
  {
   "cell_type": "code",
   "execution_count": 36,
   "id": "536ecc8f",
   "metadata": {},
   "outputs": [],
   "source": [
    "arr_1 = [1,2,3,4,5]\n",
    "arr_2 = [6,7,8,9,10]\n",
    "arr_3 = [11,12,13,14,15]"
   ]
  },
  {
   "cell_type": "code",
   "execution_count": 37,
   "id": "6dbdc49f",
   "metadata": {},
   "outputs": [],
   "source": [
    "arr = np.array([arr_1, arr_2, arr_3])"
   ]
  },
  {
   "cell_type": "code",
   "execution_count": 38,
   "id": "177cb215",
   "metadata": {},
   "outputs": [
    {
     "data": {
      "text/plain": [
       "array([[ 1,  2,  3,  4,  5],\n",
       "       [ 6,  7,  8,  9, 10],\n",
       "       [11, 12, 13, 14, 15]])"
      ]
     },
     "execution_count": 38,
     "metadata": {},
     "output_type": "execute_result"
    }
   ],
   "source": [
    "arr"
   ]
  },
  {
   "cell_type": "code",
   "execution_count": 40,
   "id": "a2b472c9",
   "metadata": {},
   "outputs": [
    {
     "data": {
      "text/plain": [
       "(3, 5)"
      ]
     },
     "execution_count": 40,
     "metadata": {},
     "output_type": "execute_result"
    }
   ],
   "source": [
    "arr.shape"
   ]
  },
  {
   "cell_type": "code",
   "execution_count": 42,
   "id": "cf5020f3",
   "metadata": {},
   "outputs": [
    {
     "data": {
      "text/plain": [
       "array([[ 9, 10],\n",
       "       [14, 15]])"
      ]
     },
     "execution_count": 42,
     "metadata": {},
     "output_type": "execute_result"
    }
   ],
   "source": [
    "arr[1:, 3:]"
   ]
  },
  {
   "cell_type": "code",
   "execution_count": 43,
   "id": "10d23629",
   "metadata": {},
   "outputs": [
    {
     "data": {
      "text/plain": [
       "array([[ 8,  9],\n",
       "       [13, 14]])"
      ]
     },
     "execution_count": 43,
     "metadata": {},
     "output_type": "execute_result"
    }
   ],
   "source": [
    "## \n",
    "4,5\n",
    "6,8\n",
    "arr[1:,2:4]"
   ]
  },
  {
   "cell_type": "code",
   "execution_count": 44,
   "id": "4c7ff31a",
   "metadata": {},
   "outputs": [
    {
     "data": {
      "text/plain": [
       "array([7, 8, 9])"
      ]
     },
     "execution_count": 44,
     "metadata": {},
     "output_type": "execute_result"
    }
   ],
   "source": [
    "## 7, 8, 9\n",
    "arr[1,1:4]"
   ]
  },
  {
   "cell_type": "code",
   "execution_count": null,
   "id": "df192215",
   "metadata": {},
   "outputs": [],
   "source": []
  }
 ],
 "metadata": {
  "kernelspec": {
   "display_name": "Python 3 (ipykernel)",
   "language": "python",
   "name": "python3"
  },
  "language_info": {
   "codemirror_mode": {
    "name": "ipython",
    "version": 3
   },
   "file_extension": ".py",
   "mimetype": "text/x-python",
   "name": "python",
   "nbconvert_exporter": "python",
   "pygments_lexer": "ipython3",
   "version": "3.9.13"
  }
 },
 "nbformat": 4,
 "nbformat_minor": 5
}
